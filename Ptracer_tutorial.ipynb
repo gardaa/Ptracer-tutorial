{
  "nbformat": 4,
  "nbformat_minor": 0,
  "metadata": {
    "colab": {
      "provenance": [],
      "toc_visible": true,
      "authorship_tag": "ABX9TyPKAVeLXM25r5bsIT51c0q3",
      "include_colab_link": true
    },
    "kernelspec": {
      "name": "python3",
      "display_name": "Python 3"
    },
    "language_info": {
      "name": "python"
    }
  },
  "cells": [
    {
      "cell_type": "markdown",
      "metadata": {
        "id": "view-in-github",
        "colab_type": "text"
      },
      "source": [
        "<a href=\"https://colab.research.google.com/github/gardaa/Ptracer-tutorial/blob/main/Ptracer_tutorial.ipynb\" target=\"_parent\"><img src=\"https://colab.research.google.com/assets/colab-badge.svg\" alt=\"Open In Colab\"/></a>"
      ]
    },
    {
      "cell_type": "markdown",
      "source": [
        "# Ptracer Tutorial\n",
        "\n",
        "## Prerequisites\n",
        "Some basic Python knowledge is recommended to easier understand and follow the tutorial. \n",
        "\n",
        "## Learning Outcome\n",
        "This executable tutorial aims to show how you can use Ptracer as a library to trace all the system calls in your Python codebase, to be able to find bugs and failures easier, and overall improve the code quality.\n",
        "\n",
        "## Overview of Steps\n",
        "List all steps in the tutorial\n",
        "\n",
        "## Motivation\n",
        "Monitoring is an important part of DevOps, as it ensures good performance and reliability. This is achieved by tracing a code base and its flows, identifying potential bugs and failures to avoid a negative impact on performance and other factors at an early stage. \n",
        "\n",
        "\n",
        "\n",
        "\n",
        "\n"
      ],
      "metadata": {
        "id": "Yml-TEyJtO1n"
      }
    },
    {
      "cell_type": "markdown",
      "source": [
        "# Setting up the environment\n",
        "\n",
        "\n"
      ],
      "metadata": {
        "id": "OCPfTfItwa5n"
      }
    }
  ]
}